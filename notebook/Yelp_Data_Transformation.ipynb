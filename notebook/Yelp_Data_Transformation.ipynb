{
 "cells": [
  {
   "cell_type": "code",
   "execution_count": 1,
   "metadata": {},
   "outputs": [
    {
     "data": {
      "application/vnd.livy.statement-meta+json": {
       "execution_finish_time": "2021-01-25T20:37:16.1998206Z",
       "execution_start_time": "2021-01-25T20:37:14.1593305Z",
       "livy_statement_state": "available",
       "queued_time": "2021-01-25T20:34:04.2587288Z",
       "session_id": 32,
       "spark_pool": "sparkpool",
       "state": "finished",
       "statement_id": 3
      },
      "text/plain": [
       "StatementMeta(sparkpool, 32, 3, Finished, Available)"
      ]
     },
     "metadata": {},
     "output_type": "display_data"
    },
    {
     "data": {
      "text/plain": [
       "Primary storage account path: abfss://yelp@calcuttaadlsgen2.dfs.core.windows.net/raw_json\n",
       "Staging csv storage account path: abfss://yelp@calcuttaadlsgen2.dfs.core.windows.net/staging_csv\n",
       "Staging parquet storage account path: abfss://yelp@calcuttaadlsgen2.dfs.core.windows.net/staging_parquet\n",
       "Curated csv storage account path: abfss://yelp@calcuttaadlsgen2.dfs.core.windows.net/curated_csv\n",
       "Curated parquet storage account path: abfss://yelp@calcuttaadlsgen2.dfs.core.windows.net/curated_parquet"
      ]
     },
     "execution_count": 1,
     "metadata": {},
     "output_type": "execute_result"
    }
   ],
   "source": [
    "from pyspark.sql import SparkSession\n",
    "from pyspark.sql.types import *\n",
    "\n",
    "# Primary storage info\n",
    "account_name = 'calcuttaadlsgen2' # fill in your primary account name\n",
    "container_name = 'yelp' # fill in your container name\n",
    "relative_path_raw_json = 'raw_json' # fill in your relative folder path\n",
    "\n",
    "adls_path_raw_json = 'abfss://%s@%s.dfs.core.windows.net/%s' % (container_name, account_name, relative_path_raw_json)\n",
    "print('Primary storage account path: ' + adls_path_raw_json)\n",
    "\n",
    "relative_path_staging_csv = 'staging_csv' # fill in your relative folder path\n",
    "\n",
    "adls_path_staging_csv = 'abfss://%s@%s.dfs.core.windows.net/%s' % (container_name, account_name, relative_path_staging_csv)\n",
    "print('Staging csv storage account path: ' + adls_path_staging_csv)\n",
    "\n",
    "relative_path_staging_parquet = 'staging_parquet' # fill in your relative folder path\n",
    "\n",
    "adls_path_staging_parquet = 'abfss://%s@%s.dfs.core.windows.net/%s' % (container_name, account_name, relative_path_staging_parquet)\n",
    "print('Staging parquet storage account path: ' + adls_path_staging_parquet)\n",
    "\n",
    "relative_path_curated_csv = 'curated_csv' # fill in your relative folder path\n",
    "\n",
    "adls_path_curated_csv = 'abfss://%s@%s.dfs.core.windows.net/%s' % (container_name, account_name, relative_path_curated_csv)\n",
    "print('Curated csv storage account path: ' + adls_path_curated_csv)\n",
    "\n",
    "relative_path_curated_parquet = 'curated_parquet' # fill in your relative folder path\n",
    "\n",
    "adls_path_curated_parquet = 'abfss://%s@%s.dfs.core.windows.net/%s' % (container_name, account_name, relative_path_curated_parquet)\n",
    "print('Curated parquet storage account path: ' + adls_path_curated_parquet)"
   ]
  },
  {
   "cell_type": "code",
   "execution_count": 4,
   "metadata": {
    "collapsed": true,
    "jupyter": {
     "outputs_hidden": false,
     "source_hidden": false
    },
    "nteract": {
     "transient": {
      "deleting": false
     }
    }
   },
   "outputs": [
    {
     "data": {
      "application/vnd.livy.statement-meta+json": {
       "execution_finish_time": "2021-01-25T18:04:10.0017319Z",
       "execution_start_time": "2021-01-25T18:03:51.5983919Z",
       "livy_statement_state": "available",
       "queued_time": "2021-01-25T18:03:51.5605899Z",
       "session_id": 31,
       "spark_pool": "sparkpool",
       "state": "finished",
       "statement_id": 6
      },
      "text/plain": [
       "StatementMeta(sparkpool, 31, 6, Finished, Available)"
      ]
     },
     "metadata": {},
     "output_type": "display_data"
    },
    {
     "data": {
      "text/plain": [
       "__________________Raw Schema__________________\n",
       "root\n",
       " |-- business_id: string (nullable = true)\n",
       " |-- compliment_count: integer (nullable = true)\n",
       " |-- date: date (nullable = true)\n",
       " |-- text: string (nullable = true)\n",
       " |-- user_id: string (nullable = true)\n",
       "\n",
       "__________________Raw Count__________________\n",
       "\n",
       "1363162\n",
       "\n",
       "\n",
       "__________________Raw Sample__________________\n",
       "\n",
       "+----------------------+----------------+----------+-----------------------------------------------------------------------------+----------------------+\n",
       "|business_id           |compliment_count|date      |text                                                                         |user_id               |\n",
       "+----------------------+----------------+----------+-----------------------------------------------------------------------------+----------------------+\n",
       "|UYX5zL_Xj9WEc_Wp-FrqHw|0               |2013-11-26|Here for a quick mtg                                                         |hf27xTME3EiCp6NL6VtWZQ|\n",
       "|Ch3HkwQYv1YKw_FO06vBWA|0               |2014-06-15|Cucumber strawberry refresher                                                |uEvusDwoSymbJJ0auR3muQ|\n",
       "|rDoT-MgxGRiYqCmi0bG10g|0               |2016-07-18|Very nice good service good food                                             |AY-laIws3S7YXNl_f_D6rQ|\n",
       "|OHXnDV01gLokiX1ELaQufA|0               |2014-06-06|It's a small place. The staff is friendly.                                   |Ue_7yUlkEbX4AhnYdUfL7g|\n",
       "|GMrwDXRlAZU2zj5nH6l4vQ|0               |2011-04-08|8 sandwiches, $24 total...what a bargain!!! And the sandwiches are awesome!!!|LltbT_fUMqZ-ZJP-vJ84IQ|\n",
       "+----------------------+----------------+----------+-----------------------------------------------------------------------------+----------------------+\n",
       "only showing top 5 rows"
      ]
     },
     "execution_count": 4,
     "metadata": {},
     "output_type": "execute_result"
    }
   ],
   "source": [
    "#Read the tip.json data from staging \n",
    "from pyspark.sql.types import StructField, StructType, StringType,LongType, IntegerType,DateType\n",
    "tip_file_csv_staging_path = adls_path_staging_csv + '/yelp_tips_csv'\n",
    "#df_staging_tip_csv = spark.read.csv(tip_file_csv_staging_path, header = 'true')\n",
    "custom_schem_tips_staging = StructType([\n",
    "    StructField(\"business_id\", StringType(), True, metadata={\"desc\": \"string, 22 character business id, maps to business in business.json\"}),\n",
    "    StructField(\"compliment_count\", IntegerType(), True, metadata={\"desc\": \"integer, how many compliments it has\"}),\n",
    "    StructField(\"date\", DateType(), True, metadata={\"desc\": \"string, when the tip was written, formatted like YYYY-MM-DD HH:MI:SS\"}),\n",
    "    StructField(\"text\", StringType(), True, metadata={\"desc\": \"string, text of the tip\"}),\n",
    "    StructField(\"user_id\", StringType(), True, metadata={\"desc\": \"string, 22 character unique user id, maps to the user in user.json\"})\n",
    "])\n",
    "df_staging_tip_csv = spark.read.format(\"csv\") \\\n",
    "    .schema(custom_schem_tips_staging) \\\n",
    "    .option(\"header\", True) \\\n",
    "    .load(tip_file_csv_staging_path)\n",
    "print (\"__________________Raw Schema__________________\")\n",
    "df_staging_tip_csv.printSchema()\n",
    "print (\"__________________Raw Count__________________\\n\")\n",
    "print(df_staging_tip_csv.count())\n",
    "print(\"\\n\")\n",
    "print (\"__________________Raw Sample__________________\\n\")\n",
    "df_staging_tip_csv.show(5, truncate = False)"
   ]
  },
  {
   "cell_type": "code",
   "execution_count": 6,
   "metadata": {
    "jupyter": {
     "outputs_hidden": false,
     "source_hidden": false
    },
    "nteract": {
     "transient": {
      "deleting": false
     }
    }
   },
   "outputs": [
    {
     "data": {
      "application/vnd.livy.statement-meta+json": {
       "execution_finish_time": "2021-01-25T18:04:45.3797401Z",
       "execution_start_time": "2021-01-25T18:04:43.3374926Z",
       "livy_statement_state": "available",
       "queued_time": "2021-01-25T18:04:43.2987292Z",
       "session_id": 31,
       "spark_pool": "sparkpool",
       "state": "finished",
       "statement_id": 8
      },
      "text/plain": [
       "StatementMeta(sparkpool, 31, 8, Finished, Available)"
      ]
     },
     "metadata": {},
     "output_type": "display_data"
    },
    {
     "data": {
      "text/plain": [
       "__________________Raw Schema__________________\n",
       "root\n",
       " |-- business_id: string (nullable = true)\n",
       " |-- compliment_count: integer (nullable = true)\n",
       " |-- date: date (nullable = true)\n",
       " |-- text: string (nullable = true)\n",
       " |-- user_id: string (nullable = true)\n",
       "\n",
       "__________________Raw Count__________________\n",
       "\n",
       "1363162\n",
       "\n",
       "\n",
       "__________________Raw Sample__________________\n",
       "\n",
       "+----------------------+----------------+----------+-----------------------------------------------------------------------------+----------------------+\n",
       "|business_id           |compliment_count|date      |text                                                                         |user_id               |\n",
       "+----------------------+----------------+----------+-----------------------------------------------------------------------------+----------------------+\n",
       "|UYX5zL_Xj9WEc_Wp-FrqHw|0               |2013-11-26|Here for a quick mtg                                                         |hf27xTME3EiCp6NL6VtWZQ|\n",
       "|Ch3HkwQYv1YKw_FO06vBWA|0               |2014-06-15|Cucumber strawberry refresher                                                |uEvusDwoSymbJJ0auR3muQ|\n",
       "|rDoT-MgxGRiYqCmi0bG10g|0               |2016-07-18|Very nice good service good food                                             |AY-laIws3S7YXNl_f_D6rQ|\n",
       "|OHXnDV01gLokiX1ELaQufA|0               |2014-06-06|It's a small place. The staff is friendly.                                   |Ue_7yUlkEbX4AhnYdUfL7g|\n",
       "|GMrwDXRlAZU2zj5nH6l4vQ|0               |2011-04-08|8 sandwiches, $24 total...what a bargain!!! And the sandwiches are awesome!!!|LltbT_fUMqZ-ZJP-vJ84IQ|\n",
       "+----------------------+----------------+----------+-----------------------------------------------------------------------------+----------------------+\n",
       "only showing top 5 rows"
      ]
     },
     "execution_count": 6,
     "metadata": {},
     "output_type": "execute_result"
    }
   ],
   "source": [
    "#Write the tip file attaching the correct schema in csv format\n",
    "tip_file_csv_curated_path = adls_path_curated_csv + '/yelp_tips_curated_csv'\n",
    "#df_staging_tip_csv.coalesce(1).write.csv(tip_file_csv_curated_path, mode = 'overwrite', header = 'true')\n",
    "#df_curated_tip_csv = spark.read.csv(tip_file_csv_curated_path, header = 'true')\n",
    "df_curated_tip_csv = spark.read.format(\"csv\") \\\n",
    "    .schema(custom_schem_tips_staging) \\\n",
    "    .option(\"header\", True) \\\n",
    "    .load(tip_file_csv_curated_path)\n",
    "print (\"__________________Raw Schema__________________\")\n",
    "df_curated_tip_csv.printSchema()\n",
    "print (\"__________________Raw Count__________________\\n\")\n",
    "print(df_curated_tip_csv.count())\n",
    "print(\"\\n\")\n",
    "print (\"__________________Raw Sample__________________\\n\")\n",
    "df_curated_tip_csv.show(5, truncate = False)"
   ]
  },
  {
   "cell_type": "code",
   "execution_count": 16,
   "metadata": {
    "jupyter": {
     "outputs_hidden": false,
     "source_hidden": false
    },
    "nteract": {
     "transient": {
      "deleting": false
     }
    }
   },
   "outputs": [
    {
     "data": {
      "application/vnd.livy.statement-meta+json": {
       "execution_finish_time": "2021-01-25T18:09:37.6370693Z",
       "execution_start_time": "2021-01-25T18:09:35.6016468Z",
       "livy_statement_state": "available",
       "queued_time": "2021-01-25T18:09:35.564807Z",
       "session_id": 31,
       "spark_pool": "sparkpool",
       "state": "finished",
       "statement_id": 18
      },
      "text/plain": [
       "StatementMeta(sparkpool, 31, 18, Finished, Available)"
      ]
     },
     "metadata": {},
     "output_type": "display_data"
    },
    {
     "data": {
      "text/plain": [
       "+----------------------+----------------+----------+-----------------------------------------------------------------------------+----------------------+\n",
       "|business_id           |compliment_count|date      |text                                                                         |user_id               |\n",
       "+----------------------+----------------+----------+-----------------------------------------------------------------------------+----------------------+\n",
       "|UYX5zL_Xj9WEc_Wp-FrqHw|0               |2013-11-26|Here for a quick mtg                                                         |hf27xTME3EiCp6NL6VtWZQ|\n",
       "|Ch3HkwQYv1YKw_FO06vBWA|0               |2014-06-15|Cucumber strawberry refresher                                                |uEvusDwoSymbJJ0auR3muQ|\n",
       "|rDoT-MgxGRiYqCmi0bG10g|0               |2016-07-18|Very nice good service good food                                             |AY-laIws3S7YXNl_f_D6rQ|\n",
       "|OHXnDV01gLokiX1ELaQufA|0               |2014-06-06|It's a small place. The staff is friendly.                                   |Ue_7yUlkEbX4AhnYdUfL7g|\n",
       "|GMrwDXRlAZU2zj5nH6l4vQ|0               |2011-04-08|8 sandwiches, $24 total...what a bargain!!! And the sandwiches are awesome!!!|LltbT_fUMqZ-ZJP-vJ84IQ|\n",
       "+----------------------+----------------+----------+-----------------------------------------------------------------------------+----------------------+\n",
       "only showing top 5 rows"
      ]
     },
     "execution_count": 16,
     "metadata": {},
     "output_type": "execute_result"
    }
   ],
   "source": [
    "df_curated_tip_csv.show(5, truncate = False)"
   ]
  },
  {
   "cell_type": "code",
   "execution_count": 17,
   "metadata": {
    "jupyter": {
     "outputs_hidden": false,
     "source_hidden": false
    },
    "nteract": {
     "transient": {
      "deleting": false
     }
    }
   },
   "outputs": [
    {
     "data": {
      "application/vnd.livy.statement-meta+json": {
       "execution_finish_time": "2021-01-25T20:51:41.8489448Z",
       "execution_start_time": "2021-01-25T20:51:39.8174901Z",
       "livy_statement_state": "available",
       "queued_time": "2021-01-25T20:51:39.781579Z",
       "session_id": 32,
       "spark_pool": "sparkpool",
       "state": "finished",
       "statement_id": 19
      },
      "text/plain": [
       "StatementMeta(sparkpool, 32, 19, Finished, Available)"
      ]
     },
     "metadata": {},
     "output_type": "display_data"
    },
    {
     "data": {
      "text/plain": [
       "root\n",
       " |-- business_id: string (nullable = true)\n",
       " |-- day: date (nullable = true)\n",
       " |-- hour: integer (nullable = true)\n",
       " |-- min: integer (nullable = true)\n",
       " |-- weekday: string (nullable = true)\n",
       " |-- second: integer (nullable = true)\n",
       "\n",
       "None\n",
       "[Row(business_id='--1UhMGODdWsrMastO9DZw', day=datetime.date(2016, 4, 26), hour=19, min=49, weekday='Tue', second=16), Row(business_id='--1UhMGODdWsrMastO9DZw', day=datetime.date(2016, 8, 30), hour=18, min=36, weekday='Tue', second=57), Row(business_id='--1UhMGODdWsrMastO9DZw', day=datetime.date(2016, 10, 15), hour=2, min=45, weekday='Sat', second=18), Row(business_id='--1UhMGODdWsrMastO9DZw', day=datetime.date(2016, 11, 18), hour=1, min=54, weekday='Fri', second=50), Row(business_id='--1UhMGODdWsrMastO9DZw', day=datetime.date(2017, 4, 20), hour=18, min=39, weekday='Thu', second=6), Row(business_id='--1UhMGODdWsrMastO9DZw', day=datetime.date(2017, 5, 3), hour=17, min=58, weekday='Wed', second=2), Row(business_id='--1UhMGODdWsrMastO9DZw', day=datetime.date(2019, 3, 19), hour=22, min=4, weekday='Tue', second=48), Row(business_id='--6MefnULPED_I942VcFNA', day=datetime.date(2011, 6, 4), hour=18, min=22, weekday='Sat', second=23), Row(business_id='--6MefnULPED_I942VcFNA', day=datetime.date(2011, 7, 23), hour=23, min=51, weekday='Sat', second=33), Row(business_id='--6MefnULPED_I942VcFNA', day=datetime.date(2012, 4, 15), hour=1, min=7, weekday='Sun', second=50)]"
      ]
     },
     "execution_count": 17,
     "metadata": {},
     "output_type": "execute_result"
    }
   ],
   "source": [
    "#Test Code\n",
    "import pyspark.sql.functions as F\n",
    "from pyspark.sql.functions import *\n",
    "#import sqlContext.implicits._\n",
    "#import org.apache.spark.sql.functions._\n",
    "\n",
    "checkin_file_csv_staging_path = adls_path_staging_csv + '/yelp_checkins_csv'\n",
    "df_staging_checkin_csv = spark.read.csv(checkin_file_csv_staging_path, header = 'true')\n",
    "#df_staging_checkin_csv.printSchema()\n",
    "#print(df_staging_checkin_csv.head())\n",
    "test_df  = df_staging_checkin_csv.withColumn(\"date\",F.split(F.regexp_replace(\"date\",'\\s|:',\",\"),\",\")) \\\n",
    ".withColumn(\"day\", F.element_at(\"date\",1).cast('date')) \\\n",
    ".withColumn(\"hour\", F.element_at(\"date\",2).cast('int')) \\\n",
    ".withColumn(\"min\", F.element_at(\"date\",3).cast('int')) \\\n",
    ".withColumn(\"weekday\", F.date_format(\"day\",'E')) \\\n",
    ".withColumn(\"second\", F.element_at(\"date\",4).cast('int')).drop(\"date\")\n",
    "\n",
    "print(test_df.printSchema())\n",
    "\n",
    "print(test_df.head(10))"
   ]
  },
  {
   "cell_type": "code",
   "execution_count": 18,
   "metadata": {
    "jupyter": {
     "outputs_hidden": false,
     "source_hidden": false
    },
    "nteract": {
     "transient": {
      "deleting": false
     }
    }
   },
   "outputs": [
    {
     "data": {
      "application/vnd.livy.statement-meta+json": {
       "execution_finish_time": "2021-01-25T20:55:24.6109031Z",
       "execution_start_time": "2021-01-25T20:53:20.0177543Z",
       "livy_statement_state": "available",
       "queued_time": "2021-01-25T20:53:19.9814147Z",
       "session_id": 32,
       "spark_pool": "sparkpool",
       "state": "finished",
       "statement_id": 20
      },
      "text/plain": [
       "StatementMeta(sparkpool, 32, 20, Finished, Available)"
      ]
     },
     "metadata": {},
     "output_type": "display_data"
    },
    {
     "data": {
      "text/plain": [
       "__________________Raw Schema__________________\n",
       "root\n",
       " |-- business_id: string (nullable = true)\n",
       " |-- day: date (nullable = true)\n",
       " |-- hour: integer (nullable = true)\n",
       " |-- min: integer (nullable = true)\n",
       " |-- weekday: string (nullable = true)\n",
       " |-- second: integer (nullable = true)\n",
       "\n",
       "__________________Raw Count__________________\n",
       "\n",
       "21003777\n",
       "\n",
       "\n",
       "__________________Raw Sample__________________\n",
       "\n",
       "+----------------------+----------+----+---+-------+------+\n",
       "|business_id           |day       |hour|min|weekday|second|\n",
       "+----------------------+----------+----+---+-------+------+\n",
       "|c7lAaz-pW58i1h1rSlyqcw|2015-04-28|3   |44 |Tue    |48    |\n",
       "|c7lAaz-pW58i1h1rSlyqcw|2015-04-30|1   |20 |Thu    |55    |\n",
       "|c7lAaz-pW58i1h1rSlyqcw|2015-04-30|2   |2  |Thu    |40    |\n",
       "|c7lAaz-pW58i1h1rSlyqcw|2015-05-02|18  |39 |Sat    |25    |\n",
       "|c7lAaz-pW58i1h1rSlyqcw|2015-05-05|3   |19 |Tue    |8     |\n",
       "+----------------------+----------+----+---+-------+------+\n",
       "only showing top 5 rows"
      ]
     },
     "execution_count": 18,
     "metadata": {},
     "output_type": "execute_result"
    }
   ],
   "source": [
    "#Read the checkin.json data in csv format\n",
    "#Write the checkin file attaching the correct schema in csv format\n",
    "checkin_file_csv_curated_path = adls_path_curated_csv + '/yelp_checkins_curated_csv'\n",
    "#df_raw_checkin_json_exploded = df_raw_checkin_json.select(\"business_id\",explode(split(col(\"date\"), \",\\s*\")).alias(\"date\"))\n",
    "#df_raw_checkin_json_exploded.coalesce(4).write.csv(checkin_file_csv_staging_path, mode = 'overwrite', header = 'true')\n",
    "df_staging_checkin_csv = spark.read.csv(checkin_file_csv_staging_path, header = 'true')\n",
    "df_curated_checkin_csv = df_staging_checkin_csv.withColumn(\"date\",F.split(F.regexp_replace(\"date\",'\\s|:',\",\"),\",\")) \\\n",
    ".withColumn(\"day\", F.element_at(\"date\",1).cast('date')) \\\n",
    ".withColumn(\"hour\", F.element_at(\"date\",2).cast('int')) \\\n",
    ".withColumn(\"min\", F.element_at(\"date\",3).cast('int')) \\\n",
    ".withColumn(\"weekday\", F.date_format(\"day\",'E')) \\\n",
    ".withColumn(\"second\", F.element_at(\"date\",4).cast('int')).drop(\"date\")\n",
    "df_curated_checkin_csv.coalesce(7).write.csv(checkin_file_csv_curated_path, mode = 'overwrite', header = 'true')\n",
    "print (\"__________________Raw Schema__________________\")\n",
    "df_curated_checkin_csv.printSchema()\n",
    "df_curated_checkin_csv = spark.read.csv(checkin_file_csv_curated_path, header = 'true')\n",
    "print (\"__________________Raw Count__________________\\n\")\n",
    "print(df_curated_checkin_csv.count())\n",
    "print(\"\\n\")\n",
    "print (\"__________________Raw Sample__________________\\n\")\n",
    "#print(df_staging_checkin_csv.head(10))\n",
    "df_curated_checkin_csv.show(5, truncate = False)"
   ]
  },
  {
   "cell_type": "code",
   "execution_count": 25,
   "metadata": {
    "jupyter": {
     "outputs_hidden": false,
     "source_hidden": false
    },
    "nteract": {
     "transient": {
      "deleting": false
     }
    }
   },
   "outputs": [
    {
     "data": {
      "application/vnd.livy.statement-meta+json": {
       "execution_finish_time": "2021-01-25T21:07:15.104909Z",
       "execution_start_time": "2021-01-25T21:07:11.0283961Z",
       "livy_statement_state": "available",
       "queued_time": "2021-01-25T21:07:10.9894871Z",
       "session_id": 32,
       "spark_pool": "sparkpool",
       "state": "finished",
       "statement_id": 27
      },
      "text/plain": [
       "StatementMeta(sparkpool, 32, 27, Finished, Available)"
      ]
     },
     "metadata": {},
     "output_type": "display_data"
    },
    {
     "data": {
      "image/png": "[encoded data removed]"
     },
     "metadata": {},
     "output_type": "display_data"
    },
    {
     "data": {},
     "execution_count": 25,
     "metadata": {},
     "output_type": "execute_result"
    }
   ],
   "source": [
    "import matplotlib.pyplot as plt\n",
    "\n",
    "#The charting package needs a Pandas dataframe or numpy array do the conversion\n",
    "#pd_df_curated_checkin_csv = df_curated_checkin_csv.withColumn(\"hour\",df_curated_checkin_csv[\"hour\"].cast(IntegerType())).toPandas()\n",
    "\n",
    "# Look at tips by amount count histogram\n",
    "ax1 = pd_df_curated_checkin_csv['hour'].plot(kind='hist', bins=25, facecolor='lightblue')\n",
    "ax1.set_title('Hourly Checkin distribution')\n",
    "ax1.set_xlabel('Hour')\n",
    "#ax1.set_ylabel('Counts')\n",
    "plt.suptitle('')\n",
    "plt.show()"
   ]
  },
  {
   "cell_type": "code",
   "execution_count": null,
   "metadata": {
    "collapsed": true,
    "jupyter": {
     "outputs_hidden": false,
     "source_hidden": false
    },
    "nteract": {
     "transient": {
      "deleting": false
     }
    }
   },
   "outputs": [],
   "source": [
    "#Test Code\n",
    "import pyspark.sql.functions as F\n",
    "df_staging_checkin_csv_test = spark.read.csv(checkin_file_csv_curated_path, header = 'true')\n",
    "df_staging_checkin_csv_test.printSchema()\n",
    "print(df_staging_checkin_csv_test.head())\n",
    "test_df  = df_staging_checkin_csv.withColumn(\"date\",F.split(F.regexp_replace(\"date\",'\\s|:',\",\"),\",\")) \\\n",
    ".withColumn(\"day\", F.element_at(\"date\",1).cast('date')) \\\n",
    ".withColumn(\"hour\", F.element_at(\"date\",2).cast('int')) \\\n",
    ".withColumn(\"min\", F.element_at(\"date\",3).cast('int')) \\\n",
    ".withColumn(\"second\", F.element_at(\"date\",4).cast('int')).drop(\"date\")\n",
    "print(test_df.head())\n",
    "print(test_df.printSchema())"
   ]
  },
  {
   "cell_type": "code",
   "execution_count": 6,
   "metadata": {
    "jupyter": {
     "outputs_hidden": false,
     "source_hidden": false
    },
    "nteract": {
     "transient": {
      "deleting": false
     }
    }
   },
   "outputs": [
    {
     "data": {
      "application/vnd.livy.statement-meta+json": {
       "execution_finish_time": "2021-01-25T20:39:35.6257073Z",
       "execution_start_time": "2021-01-25T20:39:33.5704306Z",
       "livy_statement_state": "available",
       "queued_time": "2021-01-25T20:39:28.8763021Z",
       "session_id": 32,
       "spark_pool": "sparkpool",
       "state": "finished",
       "statement_id": 8
      },
      "text/plain": [
       "StatementMeta(sparkpool, 32, 8, Finished, Available)"
      ]
     },
     "metadata": {},
     "output_type": "display_data"
    },
    {
     "data": {
      "text/plain": []
     },
     "execution_count": 6,
     "metadata": {},
     "output_type": "execute_result"
    }
   ],
   "source": [
    "df_curated_checkin_csv.createOrReplaceTempView('df_curated_checkin_csv')"
   ]
  },
  {
   "cell_type": "code",
   "execution_count": 13,
   "metadata": {
    "jupyter": {
     "outputs_hidden": false,
     "source_hidden": false
    },
    "nteract": {
     "transient": {
      "deleting": false
     }
    }
   },
   "outputs": [
    {
     "data": {
      "application/vnd.livy.statement-meta+json": {
       "execution_finish_time": "2021-01-25T20:46:25.4358289Z",
       "execution_start_time": "2021-01-25T20:45:34.1955094Z",
       "livy_statement_state": "available",
       "queued_time": "2021-01-25T20:45:34.1504785Z",
       "session_id": 32,
       "spark_pool": "sparkpool",
       "state": "finished",
       "statement_id": 15
      },
      "text/plain": [
       "StatementMeta(sparkpool, 32, 15, Finished, Available)"
      ]
     },
     "metadata": {},
     "output_type": "display_data"
    },
    {
     "data": {
      "text/plain": [
       "+--------------------+-------+----+------------+\n",
       "|         business_id|weekday|hour|agg_checkins|\n",
       "+--------------------+-------+----+------------+\n",
       "|UkCVoAhBp-JUCYyld...|    Sat|   5|           1|\n",
       "|UkFztgWFkut6fCmfN...|    Sat|  19|           5|\n",
       "|UkTyUZud787wrcEBJ...|    Tue|  12|           1|\n",
       "|UkWme3kwg6L9rd4tC...|    Wed|  23|          11|\n",
       "|UkWme3kwg6L9rd4tC...|    Thu|  21|          10|\n",
       "|UkWme3kwg6L9rd4tC...|    Sun|  21|           2|\n",
       "|UkkIsIYoO0xF2Loys...|    Tue|  15|           1|\n",
       "|UkkxWNEtCV0-RnJQq...|    Tue|  15|           1|\n",
       "|UknttT8Gl8p7KpOSi...|    Fri|  11|           1|\n",
       "|UkqdcwYv6_c-yW1JP...|    Mon|  19|          11|\n",
       "+--------------------+-------+----+------------+"
      ]
     },
     "execution_count": 13,
     "metadata": {},
     "output_type": "execute_result"
    }
   ],
   "source": [
    "spark.sql(\"SELECT business_id, date_format(day, 'E') weekday, hour,COUNT(*) agg_checkins \\\n",
    "FROM df_curated_checkin_csv GROUP BY business_id,weekday,hour LIMIT 10\").show()"
   ]
  },
  {
   "cell_type": "code",
   "execution_count": null,
   "metadata": {
    "collapsed": true,
    "jupyter": {
     "outputs_hidden": false,
     "source_hidden": false
    },
    "nteract": {
     "transient": {
      "deleting": false
     }
    }
   },
   "outputs": [],
   "source": []
  }
 ],
 "metadata": {
  "kernelspec": {
   "display_name": "Python 3",
   "language": "python",
   "name": "python3"
  },
  "language_info": {
   "codemirror_mode": {
    "name": "ipython",
    "version": 3
   },
   "file_extension": ".py",
   "mimetype": "text/x-python",
   "name": "python",
   "nbconvert_exporter": "python",
   "pygments_lexer": "ipython3",
   "version": "3.8.6"
  },
  "save_output": true,
  "synapse_widget": {
   "state": {},
   "version": "0.1"
  }
 },
 "nbformat": 4,
 "nbformat_minor": 2
}
