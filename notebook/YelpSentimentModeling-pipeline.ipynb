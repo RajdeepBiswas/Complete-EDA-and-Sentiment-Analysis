{
 "cells": [
  {
   "cell_type": "code",
   "execution_count": 47,
   "metadata": {
    "gather": {
     "logged": 1614810257833
    }
   },
   "outputs": [],
   "source": [
    "import numpy as np # linear algebra\n",
    "import pandas as pd # data processing, CSV file I/O (e.g. pd.read_csv)\n",
    "from nltk.tokenize import word_tokenize\n",
    "#nltk.download('wordnet')\n",
    "from nltk.stem import PorterStemmer\n",
    "from nltk.stem import WordNetLemmatizer\n",
    "import warnings\n",
    "warnings.filterwarnings(\"ignore\")\n",
    "import matplotlib.pyplot as plt\n",
    "import sklearn\n",
    "from sklearn.model_selection import cross_val_score\n",
    "from yellowbrick.classifier import ConfusionMatrix\n",
    "from yellowbrick.classifier import ClassificationReport\n",
    "from yellowbrick.classifier import ROCAUC"
   ]
  },
  {
   "cell_type": "code",
   "execution_count": 20,
   "metadata": {
    "collapsed": true,
    "gather": {
     "logged": 1614791381992
    },
    "jupyter": {
     "outputs_hidden": false,
     "source_hidden": false
    },
    "nteract": {
     "transient": {
      "deleting": false
     }
    }
   },
   "outputs": [
    {
     "data": {
      "text/html": [
       "<div>\n",
       "<style scoped>\n",
       "    .dataframe tbody tr th:only-of-type {\n",
       "        vertical-align: middle;\n",
       "    }\n",
       "\n",
       "    .dataframe tbody tr th {\n",
       "        vertical-align: top;\n",
       "    }\n",
       "\n",
       "    .dataframe thead th {\n",
       "        text-align: right;\n",
       "    }\n",
       "</style>\n",
       "<table border=\"1\" class=\"dataframe\">\n",
       "  <thead>\n",
       "    <tr style=\"text-align: right;\">\n",
       "      <th></th>\n",
       "      <th></th>\n",
       "    </tr>\n",
       "  </thead>\n",
       "  <tbody>\n",
       "    <tr>\n",
       "      <th>Subscription ID</th>\n",
       "      <td>7ca151c5-e4f7-4663-9583-834f4e0e6ed4</td>\n",
       "    </tr>\n",
       "    <tr>\n",
       "      <th>Workspace Name</th>\n",
       "      <td>houston-techsummit-workspace</td>\n",
       "    </tr>\n",
       "    <tr>\n",
       "      <th>Resource Group</th>\n",
       "      <td>calcutta_demos</td>\n",
       "    </tr>\n",
       "    <tr>\n",
       "      <th>Location</th>\n",
       "      <td>eastus2</td>\n",
       "    </tr>\n",
       "  </tbody>\n",
       "</table>\n",
       "</div>"
      ],
      "text/plain": [
       "                                                     \n",
       "Subscription ID  7ca151c5-e4f7-4663-9583-834f4e0e6ed4\n",
       "Workspace Name   houston-techsummit-workspace        \n",
       "Resource Group   calcutta_demos                      \n",
       "Location         eastus2                             "
      ]
     },
     "execution_count": 20,
     "metadata": {},
     "output_type": "execute_result"
    }
   ],
   "source": [
    "from azureml.core import Workspace, Dataset, Datastore\n",
    "workspace = Workspace.from_config()\n",
    "output = {}\n",
    "output['Subscription ID'] = workspace.subscription_id\n",
    "output['Workspace Name'] = workspace.name\n",
    "output['Resource Group'] = workspace.resource_group\n",
    "output['Location'] = workspace.location\n",
    "pd.set_option('display.max_colwidth', -1)\n",
    "outputDf = pd.DataFrame(data = output, index = [''])\n",
    "outputDf.T"
   ]
  },
  {
   "cell_type": "code",
   "execution_count": 5,
   "metadata": {
    "collapsed": true,
    "gather": {
     "logged": 1614786798833
    },
    "jupyter": {
     "outputs_hidden": false,
     "source_hidden": false
    },
    "nteract": {
     "transient": {
      "deleting": false
     }
    }
   },
   "outputs": [],
   "source": [
    "#Get the yelp Dataset from adlsgen2\n",
    "dataset_yelp_review = Dataset.get_by_name(workspace, 'yelp_review')\n",
    "#Convert to Pandas Dataframe\n",
    "df_yelp_review = dataset_yelp_review.to_pandas_dataframe()"
   ]
  },
  {
   "cell_type": "code",
   "execution_count": 6,
   "metadata": {
    "collapsed": true,
    "gather": {
     "logged": 1614786799876
    },
    "jupyter": {
     "outputs_hidden": false,
     "source_hidden": false
    },
    "nteract": {
     "transient": {
      "deleting": false
     }
    }
   },
   "outputs": [],
   "source": [
    "# Create new column \"Actual_Sentiment\" that stored 0's or 1's\n",
    "# 0 being Negative, 1 being Positive\n",
    "df_yelp_review['Actual_Sentiment'] = (\n",
    "    np.select(\n",
    "        condlist=[df_yelp_review['stars'] > 3], \n",
    "        choicelist=[1], \n",
    "        default=0))"
   ]
  },
  {
   "cell_type": "code",
   "execution_count": 7,
   "metadata": {
    "collapsed": true,
    "gather": {
     "logged": 1614786813125
    },
    "jupyter": {
     "outputs_hidden": false,
     "source_hidden": false
    },
    "nteract": {
     "transient": {
      "deleting": false
     }
    }
   },
   "outputs": [],
   "source": [
    "#The only challenge that we’ve faced was about balancing the train dataset in terms of having the equal \n",
    "#numbers of positive and negative reviews for our two classes. \n",
    "#Break it into positive and negative sentiment dataframes\n",
    "df_yelp_review_negative = df_yelp_review.loc[df_yelp_review['Actual_Sentiment']==0]\n",
    "df_yelp_review_positive = df_yelp_review.loc[df_yelp_review['Actual_Sentiment']==1]\n",
    "#Select a subset of the positive and negative sentiment dataframes\n",
    "df_yelp_review_negative = df_yelp_review_negative[:50000]\n",
    "df_yelp_review_positive = df_yelp_review_positive[:50000]\n",
    "#Merge the positive and negative sentiment dataframes\n",
    "all_df = [df_yelp_review_negative, df_yelp_review_positive]\n",
    "df_yelp_review_balanced = pd.concat(all_df)"
   ]
  },
  {
   "cell_type": "code",
   "execution_count": 8,
   "metadata": {
    "collapsed": true,
    "gather": {
     "logged": 1614786821068
    },
    "jupyter": {
     "outputs_hidden": false,
     "source_hidden": false
    },
    "nteract": {
     "transient": {
      "deleting": false
     }
    }
   },
   "outputs": [],
   "source": [
    "#We only need the text (review) and Actual_Sentiment columns for sentiment prediction\n",
    "df_ml_yelp_review = df_yelp_review_balanced[['text','Actual_Sentiment']]"
   ]
  },
  {
   "cell_type": "code",
   "execution_count": 9,
   "metadata": {
    "gather": {
     "logged": 1614786838543
    },
    "jupyter": {
     "outputs_hidden": false,
     "source_hidden": false
    },
    "nteract": {
     "transient": {
      "deleting": false
     }
    }
   },
   "outputs": [
    {
     "data": {
      "text/plain": [
       "1    50000\n",
       "0    50000\n",
       "Name: Actual_Sentiment, dtype: int64"
      ]
     },
     "execution_count": 9,
     "metadata": {},
     "output_type": "execute_result"
    }
   ],
   "source": [
    "df_ml_yelp_review['Actual_Sentiment'].value_counts()"
   ]
  },
  {
   "cell_type": "code",
   "execution_count": 10,
   "metadata": {
    "collapsed": true,
    "gather": {
     "logged": 1614786841876
    },
    "jupyter": {
     "outputs_hidden": false,
     "source_hidden": false
    },
    "nteract": {
     "transient": {
      "deleting": false
     }
    }
   },
   "outputs": [],
   "source": [
    "#Build punctuation dictionary\n",
    "import unicodedata\n",
    "import sys\n",
    "\n",
    "# Create a dictionary of punctuation characters\n",
    "punctuation = dict.fromkeys(i for i in range(sys.maxunicode)\n",
    "                            if unicodedata.category(chr(i)).startswith('P'))\n",
    "# Add the backtick/ Grave accent character\n",
    "punctuation.update({96:None})"
   ]
  },
  {
   "cell_type": "code",
   "execution_count": 11,
   "metadata": {
    "collapsed": true,
    "gather": {
     "logged": 1614786842736
    },
    "jupyter": {
     "outputs_hidden": false,
     "source_hidden": false
    },
    "nteract": {
     "transient": {
      "deleting": false
     }
    }
   },
   "outputs": [],
   "source": [
    "#Let us clean up and make the data ready\n",
    "#Now it is time to preprocess the reviews because all these modifications will directly affect the classifier’s performance.\n",
    "# As we are going to use words as features so we can use some text formatting techniques which will help us in feature extraction\n",
    "#  including removing punctuation marks/digits ,and also stop-words. In addition, the implementation of \n",
    "# lemmatization words using NLTK\n",
    "#   can be workable to maximize the performance. Tokenization is the last step to break reviews up into\n",
    "#  words and other meaningful tokens.\n",
    "\n",
    "import re \n",
    "import string\n",
    "#pip install nltk\n",
    "import nltk\n",
    "#nltk.download('stopwords')\n",
    "\n",
    "from nltk.corpus import stopwords \n",
    "ENGLISH_STOP_WORDS = stopwords.words('english')\n",
    "\n",
    "def function_clean_stop(text):\n",
    "    #convert into lowercase\n",
    "    text = text.lower()\n",
    "    #removing the URL Http\n",
    "    text = re.sub(r\"http\\S+\", \"\", text) \n",
    "    # Removal of mentions\n",
    "    #text = re.sub(\"@[^\\s]*\", \"\", text)\n",
    "    # Removal of hashtags\n",
    "    #text = re.sub(\"#[^\\s]*\", \"\", text)\n",
    "    # Removal of numbers\n",
    "    text = re.sub('[0-9]*[+-:]*[0-9]+', '', text)\n",
    "    text = re.sub(\"'s\", \"\", text)   \n",
    "    #remove all punctuation from the text.\n",
    "    text = str(text.translate(punctuation))\n",
    "    \n",
    "    listofwords = text.strip().split()          # to remove any space from beginning and the end of text\n",
    "    tokenized_words = []    \n",
    "    for word in listofwords:\n",
    "        if not word in ENGLISH_STOP_WORDS:\n",
    "            lemm_word = WordNetLemmatizer().lemmatize(word)\n",
    "            if len(lemm_word)>0:\n",
    "                tokenized_words.append(lemm_word)\n",
    "    return_str = ' '.join([str(elem) for elem in tokenized_words])             \n",
    "    return(return_str)"
   ]
  },
  {
   "cell_type": "code",
   "execution_count": 12,
   "metadata": {
    "collapsed": true,
    "gather": {
     "logged": 1614786902644
    },
    "jupyter": {
     "outputs_hidden": false,
     "source_hidden": false
    },
    "nteract": {
     "transient": {
      "deleting": false
     }
    }
   },
   "outputs": [],
   "source": [
    "# applying the cleaning function to text column\n",
    "df_ml_yelp_review['text'] = df_ml_yelp_review['text'].apply(lambda text: function_clean_stop(text))"
   ]
  },
  {
   "cell_type": "code",
   "execution_count": 15,
   "metadata": {
    "collapsed": true,
    "gather": {
     "logged": 1614789852309
    },
    "jupyter": {
     "outputs_hidden": false,
     "source_hidden": false
    },
    "nteract": {
     "transient": {
      "deleting": false
     }
    }
   },
   "outputs": [],
   "source": [
    "#Splitting the data to train and test\n",
    "from sklearn.model_selection import train_test_split\n",
    "from sklearn.preprocessing import StandardScaler\n",
    "\n",
    "X = df_ml_yelp_review[\"text\"]\n",
    "y = df_ml_yelp_review[\"Actual_Sentiment\"]\n",
    "\n",
    "X_train, X_test, y_train, y_test = train_test_split(X, y, test_size=0.2, random_state=4)"
   ]
  },
  {
   "cell_type": "code",
   "execution_count": 16,
   "metadata": {
    "collapsed": true,
    "gather": {
     "logged": 1614789916948
    },
    "jupyter": {
     "outputs_hidden": false,
     "source_hidden": false
    },
    "nteract": {
     "transient": {
      "deleting": false
     }
    }
   },
   "outputs": [],
   "source": [
    "#Vectorizing the text using TF_IDF\n",
    "from sklearn.feature_extraction.text import TfidfVectorizer\n",
    "vect_1 = TfidfVectorizer(min_df=100, stop_words={'english'}, ngram_range=(1,3)).fit(X_train)\n",
    "X_train1 = vect_1.transform(X_train)\n",
    "X_test1 = vect_1.transform(X_test)"
   ]
  },
  {
   "cell_type": "code",
   "execution_count": 22,
   "metadata": {
    "gather": {
     "logged": 1614719336551
    },
    "jupyter": {
     "outputs_hidden": false,
     "source_hidden": false
    },
    "nteract": {
     "transient": {
      "deleting": false
     }
    }
   },
   "outputs": [
    {
     "data": {
      "text/plain": [
       "array([1.00000000e+00, 2.78255940e+00, 7.74263683e+00, 2.15443469e+01,\n",
       "       5.99484250e+01, 1.66810054e+02, 4.64158883e+02, 1.29154967e+03,\n",
       "       3.59381366e+03, 1.00000000e+04])"
      ]
     },
     "execution_count": 22,
     "metadata": {},
     "output_type": "execute_result"
    }
   ],
   "source": [
    "np.logspace(0, 4, 10)"
   ]
  },
  {
   "cell_type": "code",
   "execution_count": 24,
   "metadata": {
    "gather": {
     "logged": 1614800483488
    },
    "jupyter": {
     "outputs_hidden": false,
     "source_hidden": false
    },
    "nteract": {
     "transient": {
      "deleting": false
     }
    }
   },
   "outputs": [
    {
     "data": {
      "text/plain": [
       "[0.0001, 0.001, 0.01, 0.1, 1, 10, 100, 1000]"
      ]
     },
     "execution_count": 24,
     "metadata": {},
     "output_type": "execute_result"
    }
   ],
   "source": [
    "[10**j for j in range(-4,4)]"
   ]
  },
  {
   "cell_type": "code",
   "execution_count": 26,
   "metadata": {
    "gather": {
     "logged": 1614800528503
    },
    "jupyter": {
     "outputs_hidden": false,
     "source_hidden": false
    },
    "nteract": {
     "transient": {
      "deleting": false
     }
    }
   },
   "outputs": [
    {
     "data": {
      "text/plain": [
       "array([1.00000000e+00, 3.72759372e+00, 1.38949549e+01, 5.17947468e+01,\n",
       "       1.93069773e+02, 7.19685673e+02, 2.68269580e+03, 1.00000000e+04])"
      ]
     },
     "execution_count": 26,
     "metadata": {},
     "output_type": "execute_result"
    }
   ],
   "source": [
    "np.logspace(0, 4, 8)"
   ]
  },
  {
   "cell_type": "code",
   "execution_count": 27,
   "metadata": {
    "gather": {
     "logged": 1614805515231
    },
    "jupyter": {
     "outputs_hidden": false,
     "source_hidden": false
    },
    "nteract": {
     "transient": {
      "deleting": false
     }
    }
   },
   "outputs": [
    {
     "name": "stdout",
     "output_type": "stream",
     "text": [
      "Performing grid search...\n",
      "pipeline: ['tfidfvect', 'classifier']\n",
      "parameters:\n",
      "[{'classifier': [LogisticRegression(C=1.0, class_weight=None, dual=False, fit_intercept=True,\n",
      "                   intercept_scaling=1, l1_ratio=None, max_iter=100,\n",
      "                   multi_class='auto', n_jobs=None, penalty='l2',\n",
      "                   random_state=None, solver='lbfgs', tol=0.0001, verbose=0,\n",
      "                   warm_start=False)],\n",
      "  'classifier__C': [0.0001, 0.001, 0.01, 0.1, 1, 10, 100, 1000],\n",
      "  'tfidfvect__max_df': (0.5, 0.75, 1.0),\n",
      "  'tfidfvect__ngram_range': ((1, 1), (1, 2), (1, 3))},\n",
      " {'classifier': [RandomForestClassifier(bootstrap=True, ccp_alpha=0.0, class_weight=None,\n",
      "                       criterion='gini', max_depth=None, max_features='auto',\n",
      "                       max_leaf_nodes=None, max_samples=None,\n",
      "                       min_impurity_decrease=0.0, min_impurity_split=None,\n",
      "                       min_samples_leaf=1, min_samples_split=2,\n",
      "                       min_weight_fraction_leaf=0.0, n_estimators=100,\n",
      "                       n_jobs=None, oob_score=False, random_state=None,\n",
      "                       verbose=0, warm_start=False)],\n",
      "  'classifier__n_estimators': [10, 100, 1000]},\n",
      " {'classifier': [XGBClassifier(base_score=0.5, booster='gbtree', colsample_bylevel=1,\n",
      "              colsample_bynode=1, colsample_bytree=1, gamma=0,\n",
      "              learning_rate=0.1, max_delta_step=0, max_depth=3,\n",
      "              min_child_weight=1, missing=None, n_estimators=100, n_jobs=1,\n",
      "              nthread=None, objective='binary:logistic', random_state=0,\n",
      "              reg_alpha=0, reg_lambda=1, scale_pos_weight=1, seed=None,\n",
      "              silent=None, subsample=1, verbosity=1)],\n",
      "  'classifier__max_depth': [3, 4, 5, 6, 7, 8, 9, 10]},\n",
      " {'classifier': [MLPClassifier(activation='relu', alpha=0.0001, batch_size='auto', beta_1=0.9,\n",
      "              beta_2=0.999, early_stopping=False, epsilon=1e-08,\n",
      "              hidden_layer_sizes=(100,), learning_rate='constant',\n",
      "              learning_rate_init=0.001, max_fun=15000, max_iter=200,\n",
      "              momentum=0.9, n_iter_no_change=10, nesterovs_momentum=True,\n",
      "              power_t=0.5, random_state=None, shuffle=True, solver='adam',\n",
      "              tol=0.0001, validation_fraction=0.1, verbose=False,\n",
      "              warm_start=False)],\n",
      "  'classifier__hidden_layer_sizes': (30, 30, 30)}]\n",
      "Fitting 2 folds for each of 86 candidates, totalling 172 fits\n",
      "done in 4906.837s\n",
      "\n",
      "Best score: 0.891\n",
      "Best parameters set:\n",
      "LogisticRegression(C=100, class_weight=None, dual=False, fit_intercept=True,\n",
      "                   intercept_scaling=1, l1_ratio=None, max_iter=100,\n",
      "                   multi_class='auto', n_jobs=None, penalty='l2',\n",
      "                   random_state=None, solver='lbfgs', tol=0.0001, verbose=0,\n",
      "                   warm_start=False)\n"
     ]
    },
    {
     "name": "stderr",
     "output_type": "stream",
     "text": [
      "[Parallel(n_jobs=-1)]: Using backend LokyBackend with 4 concurrent workers.\n",
      "[Parallel(n_jobs=-1)]: Done  42 tasks      | elapsed:  4.5min\n",
      "[Parallel(n_jobs=-1)]: Done 172 out of 172 | elapsed: 80.5min finished\n"
     ]
    }
   ],
   "source": [
    "#Create a dictionary of candidate learning algorithms and their hyperparameters: \n",
    "# Load libraries\n",
    "from sklearn.model_selection import GridSearchCV\n",
    "from sklearn.pipeline import Pipeline\n",
    "from sklearn.linear_model import LogisticRegression\n",
    "from sklearn.ensemble import RandomForestClassifier\n",
    "from sklearn.neural_network import MLPClassifier\n",
    "from xgboost import XGBClassifier\n",
    "from sklearn.feature_extraction.text import TfidfVectorizer\n",
    "from pprint import pprint\n",
    "from time import time\n",
    "import logging\n",
    "\n",
    "# Set random seed\n",
    "np.random.seed(0)\n",
    "\n",
    "# Load data\n",
    "features = df_ml_yelp_review[\"text\"]\n",
    "target = df_ml_yelp_review[\"Actual_Sentiment\"]\n",
    "\n",
    "# Create a pipeline\n",
    "#pipe = Pipeline([(\"classifier\", RandomForestClassifier())])\n",
    "# #############################################################################\n",
    "# Define a pipeline combining a text feature extractor with a simple\n",
    "# classifier\n",
    "pipe = Pipeline([\n",
    "    ('tfidfvect', TfidfVectorizer()),\n",
    "    ('classifier', RandomForestClassifier())\n",
    "])\n",
    "\n",
    "# Create dictionary with candidate learning algorithms and their hyperparameters\n",
    "search_space = [{\n",
    "                'tfidfvect__max_df': (0.5, 0.75, 1.0),\n",
    "                'tfidfvect__max_features': (None, 5000, 10000, 50000),\n",
    "                'tfidfvect__ngram_range': ((1, 1), (1, 2), (1, 3)),\n",
    "                'tfidfvect__use_idf': (True, False),\n",
    "                'tfidfvect__norm': ('l1', 'l2'),\n",
    "                \"classifier\": [LogisticRegression()],\n",
    "                \"classifier__penalty\": ['l1', 'l2'],\n",
    "                \"classifier__C\": np.logspace(0, 4, 10)},.\n",
    "                \"classifier__C\": [10**j for j in range(-4,4)]},\n",
    "                \"classifier__solver\": ['newton-cg', 'lbfgs','saga']},\n",
    "                {\n",
    "                'tfidfvect__max_df': (0.5, 0.75, 1.0),\n",
    "                'tfidfvect__max_features': (None, 5000, 10000, 50000),\n",
    "                'tfidfvect__ngram_range': ((1, 1), (1, 2), (1, 3)),\n",
    "                'tfidfvect__use_idf': (True, False),\n",
    "                'tfidfvect__norm': ('l1', 'l2'),\n",
    "                \"classifier\": [RandomForestClassifier()],\n",
    "                \"classifier__n_estimators\": [10, 100, 1000]},\n",
    "\t\t\t\t{\n",
    "                'tfidfvect__max_df': (0.5, 0.75, 1.0),\n",
    "                'tfidfvect__max_features': (None, 5000, 10000, 50000),\n",
    "                'tfidfvect__ngram_range': ((1, 1), (1, 2), (1, 3)),\n",
    "                'tfidfvect__use_idf': (True, False),\n",
    "                'tfidfvect__norm': ('l1', 'l2'),\n",
    "                \"classifier\": [XGBClassifier()],\n",
    "                \"classifier__max_depth\": [3,4,5,6,7,8,9,10]},\n",
    "\t\t\t\t{\n",
    "                'tfidfvect__max_df': (0.5, 0.75, 1.0),\n",
    "                'tfidfvect__max_features': (None, 5000, 10000, 50000),\n",
    "                'tfidfvect__ngram_range': ((1, 1), (1, 2), (1, 3)),\n",
    "                'tfidfvect__use_idf': (True, False),\n",
    "                'tfidfvect__norm': ('l1', 'l2'),\n",
    "                \"classifier\": [MLPClassifier()],\n",
    "                \"classifier__hidden_layer_sizes\":(30,30,30)}]\n",
    "\n",
    "# Create grid search\n",
    "#gridsearch = GridSearchCV(pipe, search_space, cv=5, n_jobs=-1, verbose=3)\n",
    "\n",
    "# Fit grid search\n",
    "#best_model = gridsearch.fit(features, target)\n",
    "if __name__ == \"__main__\":\n",
    "    # multiprocessing requires the fork to happen in a __main__ protected\n",
    "    # block\n",
    "\n",
    "    # find the best parameters for both the feature extraction and the\n",
    "    # classifier\n",
    "    gridsearch = GridSearchCV(pipe, search_space, cv=2, n_jobs=-1, verbose=1)\n",
    "\n",
    "    print(\"Performing grid search...\")\n",
    "    print(\"pipeline:\", [name for name, _ in pipe.steps])\n",
    "    print(\"parameters:\")\n",
    "    pprint(search_space)\n",
    "    t0 = time()\n",
    "    # Fit grid search\n",
    "    best_model = gridsearch.fit(features, target)\n",
    "    print(\"done in %0.3fs\" % (time() - t0))\n",
    "    print()\n",
    "    print(\"Best score: %0.3f\" % gridsearch.best_score_)\n",
    "    print(\"Best parameters set:\")\n",
    "    #Model prameters\n",
    "    print(best_model.best_estimator_.get_params()[\"classifier\"])"
   ]
  },
  {
   "cell_type": "code",
   "execution_count": null,
   "metadata": {
    "collapsed": true,
    "jupyter": {
     "outputs_hidden": false,
     "source_hidden": false
    },
    "nteract": {
     "transient": {
      "deleting": false
     }
    }
   },
   "outputs": [],
   "source": [
    "[{'classifier': [LogisticRegression(C=1.0, class_weight=None, dual=False, fit_intercept=True,\n",
    "                   intercept_scaling=1, l1_ratio=None, max_iter=100,\n",
    "                   multi_class='auto', n_jobs=None, penalty='l2',\n",
    "                   random_state=None, solver='lbfgs', tol=0.0001, verbose=0,\n",
    "                   warm_start=False)],"
   ]
  },
  {
   "cell_type": "code",
   "execution_count": 34,
   "metadata": {
    "gather": {
     "logged": 1614806317988
    },
    "jupyter": {
     "outputs_hidden": false,
     "source_hidden": false
    },
    "nteract": {
     "transient": {
      "deleting": false
     }
    }
   },
   "outputs": [
    {
     "data": {
      "text/plain": [
       "LogisticRegression(C=1.0, class_weight=None, dual=False, fit_intercept=True,\n",
       "                   intercept_scaling=1, l1_ratio=None, max_iter=100,\n",
       "                   multi_class='auto', n_jobs=None, penalty='l2',\n",
       "                   random_state=1, solver='lbfgs', tol=0.0001, verbose=0,\n",
       "                   warm_start=False)"
      ]
     },
     "execution_count": 34,
     "metadata": {},
     "output_type": "execute_result"
    }
   ],
   "source": [
    "# fitting a logistic regression model\n",
    "from sklearn.linear_model import LogisticRegression\n",
    "from sklearn.metrics import confusion_matrix\n",
    "import warnings\n",
    "warnings.filterwarnings(\"ignore\")\n",
    "\n",
    "# Fitting Logistic regression to the training set\n",
    "logreg = LogisticRegression(C=1.0, solver='lbfgs', penalty='l2', multi_class='auto',random_state=1)\n",
    "logreg.fit(X_train1, y_train)"
   ]
  },
  {
   "cell_type": "code",
   "execution_count": 35,
   "metadata": {
    "gather": {
     "logged": 1614806391190
    },
    "jupyter": {
     "outputs_hidden": false,
     "source_hidden": false
    },
    "nteract": {
     "transient": {
      "deleting": false
     }
    }
   },
   "outputs": [
    {
     "name": "stdout",
     "output_type": "stream",
     "text": [
      "-----------------Detailed Cross Validated Model Evaluation Metrics-----------------\n",
      "-------------------------------Logistic Regression---------------------------------\n",
      "-------------------------------------Accuracy-------------------------------------\n",
      "Training CV accuracy score with 10 cross folds [0.888625 0.8845   0.884875 0.8915   0.88675  0.890625 0.88975  0.888375\n",
      " 0.888375 0.886875]\n",
      "Training CV accuracy average score 0.89\n",
      "Training CV accuracy standard deviation 0.00\n",
      "Test CV accuracy score with 5 cross folds [0.8815 0.886  0.8775 0.8785 0.881 ]\n",
      "Test CV accuracy average score 0.88\n",
      "Test CV accuracy standard deviation 0.00\n",
      "-----------------------------------------------------------------------------------\n",
      "-------------------------------------Precision-------------------------------------\n",
      "Training CV precision score with 10 cross folds [0.89009054 0.88545592 0.87851158 0.89150589 0.88271758 0.88897206\n",
      " 0.88841737 0.89483066 0.88694784 0.88088779]\n",
      "Training CV precision average score 0.89\n",
      "Training CV precision standard deviation 0.00\n",
      "Test CV precision score with 5 cross folds [0.88346614 0.89219144 0.88055972 0.87371512 0.8855996 ]\n",
      "Test CV precision average score 0.88\n",
      "Test CV precision standard deviation 0.01\n",
      "-----------------------------------------------------------------------------------\n",
      "-------------------------------------Recall----------------------------------------\n",
      "Training CV recall score with 10 cross folds [0.88630103 0.88279489 0.89281242 0.89105935 0.89156023 0.89231155\n",
      " 0.89108663 0.87981973 0.88983475 0.89434151]\n",
      "Training CV recall average score 0.89\n",
      "Training CV recall standard deviation 0.00\n",
      "Test CV recall score with 5 cross folds [0.88083416 0.87978142 0.87531048 0.88673621 0.87680079]\n",
      "Test CV recall average score 0.88\n",
      "Test CV recall standard deviation 0.00\n",
      "-----------------------------------------------------------------------------------\n",
      "-------------------------------------F1--------------------------------------------\n",
      "Training CV F1 score with 10 cross folds [0.88819174 0.8841234  0.88560427 0.89128257 0.88711687 0.89063867\n",
      " 0.88975    0.88726171 0.88838895 0.88756367]\n",
      "Training CV F1 average score 0.89\n",
      "Training CV F1 standard deviation 0.00\n",
      "Test CV F1 score with 5 cross folds [0.88214818 0.88594297 0.87792725 0.88017751 0.88117823]\n",
      "Test CV F1 average score 0.88\n",
      "Test CV F1 standard deviation 0.00\n",
      "-----------------------------------------------------------------------------------\n"
     ]
    }
   ],
   "source": [
    "cv_logreg_train_accuracy = cross_val_score(logreg, X_train1, y_train, cv=10, scoring=\"accuracy\")\n",
    "cv_logreg_train_accuracy_mean = \"%0.2f\"%cv_logreg_train_accuracy.mean()\n",
    "cv_logreg_train_accuracy_std = \"%0.2f\"%cv_logreg_train_accuracy.std()\n",
    "cv_logreg_test_accuracy = cross_val_score(logreg, X_test1, y_test, cv=5, scoring=\"accuracy\")\n",
    "cv_logreg_test_accuracy_mean = \"%0.2f\"%cv_logreg_test_accuracy.mean()\n",
    "cv_logreg_test_accuracy_std = \"%0.2f\"%cv_logreg_test_accuracy.std()\n",
    "\n",
    "cv_logreg_train_precision = cross_val_score(logreg, X_train1, y_train, cv=10, scoring=\"precision\")\n",
    "cv_logreg_train_precision_mean = \"%0.2f\"%cv_logreg_train_precision.mean()\n",
    "cv_logreg_train_precision_std = \"%0.2f\"%cv_logreg_train_precision.std()\n",
    "cv_logreg_test_precision = cross_val_score(logreg, X_test1, y_test, cv=5, scoring=\"precision\")\n",
    "cv_logreg_test_precision_mean = \"%0.2f\"%cv_logreg_test_precision.mean()\n",
    "cv_logreg_test_precision_std = \"%0.2f\"%cv_logreg_test_precision.std()\n",
    "\n",
    "cv_logreg_train_recall = cross_val_score(logreg, X_train1, y_train, cv=10, scoring=\"recall\")\n",
    "cv_logreg_train_recall_mean = \"%0.2f\"%cv_logreg_train_recall.mean()\n",
    "cv_logreg_train_recall_std = \"%0.2f\"%cv_logreg_train_recall.std()\n",
    "cv_logreg_test_recall = cross_val_score(logreg, X_test1, y_test, cv=5, scoring=\"recall\")\n",
    "cv_logreg_test_recall_mean = \"%0.2f\"%cv_logreg_test_recall.mean()\n",
    "cv_logreg_test_recall_std = \"%0.2f\"%cv_logreg_test_recall.std()\n",
    "\n",
    "cv_logreg_train_f1 = cross_val_score(logreg, X_train1, y_train, cv=10, scoring=\"f1\")\n",
    "cv_logreg_train_f1_mean = \"%0.2f\"%cv_logreg_train_f1.mean()\n",
    "cv_logreg_train_f1_std = \"%0.2f\"%cv_logreg_train_f1.std()\n",
    "cv_logreg_test_f1 = cross_val_score(logreg, X_test1, y_test, cv=5, scoring=\"f1\")\n",
    "cv_logreg_test_f1_mean = \"%0.2f\"%cv_logreg_test_f1.mean()\n",
    "cv_logreg_test_f1_std = \"%0.2f\"%cv_logreg_test_f1.std()\n",
    "\n",
    "\n",
    "print (\"-----------------Detailed Cross Validated Model Evaluation Metrics-----------------\")\n",
    "print (\"-------------------------------Logistic Regression---------------------------------\")\n",
    "print (\"-------------------------------------Accuracy-------------------------------------\")\n",
    "print (\"Training CV accuracy score with 10 cross folds\",cv_logreg_train_accuracy)\n",
    "print (\"Training CV accuracy average score\",cv_logreg_train_accuracy_mean)\n",
    "print (\"Training CV accuracy standard deviation\",cv_logreg_train_accuracy_std)\n",
    "print (\"Test CV accuracy score with 5 cross folds\",cv_logreg_test_accuracy)\n",
    "print (\"Test CV accuracy average score\",cv_logreg_test_accuracy_mean)\n",
    "print (\"Test CV accuracy standard deviation\",cv_logreg_test_accuracy_std)\n",
    "print (\"-----------------------------------------------------------------------------------\")\n",
    "print (\"-------------------------------------Precision-------------------------------------\")\n",
    "print (\"Training CV precision score with 10 cross folds\",cv_logreg_train_precision)\n",
    "print (\"Training CV precision average score\",cv_logreg_train_precision_mean)\n",
    "print (\"Training CV precision standard deviation\",cv_logreg_train_precision_std)\n",
    "print (\"Test CV precision score with 5 cross folds\",cv_logreg_test_precision)\n",
    "print (\"Test CV precision average score\",cv_logreg_test_precision_mean)\n",
    "print (\"Test CV precision standard deviation\",cv_logreg_test_precision_std)\n",
    "print (\"-----------------------------------------------------------------------------------\")\n",
    "print (\"-------------------------------------Recall----------------------------------------\")\n",
    "print (\"Training CV recall score with 10 cross folds\",cv_logreg_train_recall)\n",
    "print (\"Training CV recall average score\",cv_logreg_train_recall_mean)\n",
    "print (\"Training CV recall standard deviation\",cv_logreg_train_recall_std)\n",
    "print (\"Test CV recall score with 5 cross folds\",cv_logreg_test_recall)\n",
    "print (\"Test CV recall average score\",cv_logreg_test_recall_mean)\n",
    "print (\"Test CV recall standard deviation\",cv_logreg_test_recall_std)\n",
    "print (\"-----------------------------------------------------------------------------------\")\n",
    "print (\"-------------------------------------F1--------------------------------------------\")\n",
    "print (\"Training CV F1 score with 10 cross folds\",cv_logreg_train_f1)\n",
    "print (\"Training CV F1 average score\",cv_logreg_train_f1_mean)\n",
    "print (\"Training CV F1 standard deviation\",cv_logreg_train_f1_std)\n",
    "print (\"Test CV F1 score with 5 cross folds\",cv_logreg_test_f1)\n",
    "print (\"Test CV F1 average score\",cv_logreg_test_f1_mean)\n",
    "print (\"Test CV F1 standard deviation\",cv_logreg_test_f1_std)\n",
    "print (\"-----------------------------------------------------------------------------------\")"
   ]
  },
  {
   "cell_type": "code",
   "execution_count": 38,
   "metadata": {
    "gather": {
     "logged": 1614809781950
    },
    "jupyter": {
     "outputs_hidden": false,
     "source_hidden": false
    },
    "nteract": {
     "transient": {
      "deleting": false
     }
    }
   },
   "outputs": [
    {
     "name": "stdout",
     "output_type": "stream",
     "text": [
      "Score on training set: 0.905\n",
      "Score on test set: 0.8926\n"
     ]
    }
   ],
   "source": [
    "# Predicting the test set results\n",
    "y_pred_logreg = logreg.predict(X_test1)\n",
    "\n",
    "# Training score\n",
    "print(f\"Score on training set: {logreg.score(X_train1,y_train)}\")\n",
    "print(f\"Score on test set: {logreg.score(X_test1,y_test)}\")"
   ]
  },
  {
   "cell_type": "code",
   "execution_count": 41,
   "metadata": {
    "gather": {
     "logged": 1614809857314
    },
    "jupyter": {
     "outputs_hidden": false,
     "source_hidden": false
    },
    "nteract": {
     "transient": {
      "deleting": false
     }
    }
   },
   "outputs": [
    {
     "name": "stdout",
     "output_type": "stream",
     "text": [
      "                 precision    recall  f1-score   support\n",
      "\n",
      "Negative Review       0.90      0.89      0.89      9934\n",
      "Positive Review       0.89      0.90      0.89     10066\n",
      "\n",
      "       accuracy                           0.89     20000\n",
      "      macro avg       0.89      0.89      0.89     20000\n",
      "   weighted avg       0.89      0.89      0.89     20000\n",
      "\n"
     ]
    }
   ],
   "source": [
    "from sklearn.metrics import classification_report\n",
    "y_pred_logreg = logreg.predict(X_test1)\n",
    "# Create a classification report\n",
    "class_names = ['Negative Review','Positive Review']\n",
    "print(classification_report(y_test,y_pred_logreg,\n",
    "                            target_names=class_names))"
   ]
  },
  {
   "cell_type": "code",
   "execution_count": 43,
   "metadata": {
    "gather": {
     "logged": 1614809957158
    },
    "jupyter": {
     "outputs_hidden": false,
     "source_hidden": false
    },
    "nteract": {
     "transient": {
      "deleting": false
     }
    }
   },
   "outputs": [
    {
     "data": {
      "image/png": "[encoded data removed]",
      "text/plain": [
       "<Figure size 432x288 with 1 Axes>"
      ]
     },
     "metadata": {
      "needs_background": "light"
     },
     "output_type": "display_data"
    }
   ],
   "source": [
    "import seaborn as sns\n",
    "from sklearn.metrics import confusion_matrix\n",
    "class_names = ['Negative Review','Positive Review']\n",
    "\n",
    "# Train model and make predictions\n",
    "target_predicted = logreg.fit(X_train1,y_train).predict(X_test1)\n",
    "\n",
    "# Create confusion matrix\n",
    "matrix = confusion_matrix(y_test, target_predicted)\n",
    "\n",
    "# Create pandas dataframe\n",
    "dataframe = pd.DataFrame(matrix, index=class_names, columns=class_names)\n",
    "\n",
    "# Create heatmap\n",
    "sns.heatmap(dataframe, annot=True, cbar=None, cmap=\"Blues\", fmt='d')\n",
    "plt.title(\"Confusion Matrix\"), plt.tight_layout()\n",
    "plt.ylabel(\"True Class\"), plt.xlabel(\"Predicted Class\")\n",
    "plt.show()"
   ]
  },
  {
   "cell_type": "code",
   "execution_count": 45,
   "metadata": {
    "gather": {
     "logged": 1614810011406
    },
    "jupyter": {
     "outputs_hidden": false,
     "source_hidden": false
    },
    "nteract": {
     "transient": {
      "deleting": false
     }
    }
   },
   "outputs": [
    {
     "data": {
      "image/png": "[encoded data removed]",
      "text/plain": [
       "<Figure size 432x288 with 1 Axes>"
      ]
     },
     "metadata": {
      "needs_background": "light"
     },
     "output_type": "display_data"
    }
   ],
   "source": [
    "# Load libraries\n",
    "import matplotlib.pyplot as plt\n",
    "from sklearn.datasets import make_classification\n",
    "from sklearn.metrics import roc_curve, roc_auc_score\n",
    "\n",
    "# Get predicted probabilities\n",
    "target_probabilities = logreg.predict_proba(X_test1)[:,1]\n",
    "\n",
    "# Create true and false positive rates\n",
    "false_positive_rate, true_positive_rate, threshold = roc_curve(y_test,\n",
    "                                                               target_probabilities)\n",
    "\n",
    "# Plot ROC curve\n",
    "plt.title(\"Receiver Operating Characteristic\")\n",
    "plt.plot(false_positive_rate, true_positive_rate)\n",
    "plt.plot([0, 1], ls=\"--\")\n",
    "plt.plot([0, 0], [1, 0] , c=\".7\"), plt.plot([1, 1] , c=\".7\")\n",
    "plt.ylabel(\"True Positive Rate\")\n",
    "plt.xlabel(\"False Positive Rate\")\n",
    "plt.show()\t\t\t\t\t"
   ]
  },
  {
   "cell_type": "code",
   "execution_count": 51,
   "metadata": {
    "gather": {
     "logged": 1614810317589
    },
    "jupyter": {
     "outputs_hidden": false,
     "source_hidden": false
    },
    "nteract": {
     "transient": {
      "deleting": false
     }
    }
   },
   "outputs": [
    {
     "data": {
      "image/png": "[encoded data removed]",
      "text/plain": [
       "<Figure size 720x360 with 2 Axes>"
      ]
     },
     "metadata": {},
     "output_type": "display_data"
    },
    {
     "data": {
      "image/png": "[encoded data removed]",
      "text/plain": [
       "<Figure size 720x360 with 1 Axes>"
      ]
     },
     "metadata": {},
     "output_type": "display_data"
    }
   ],
   "source": [
    "# Precision, Recall, and F1 Score\n",
    "# set the size of the figure and the font size \n",
    "plt.rcParams['figure.figsize'] = (10, 5)\n",
    "plt.rcParams['font.size'] = 20\n",
    "\n",
    "# Instantiate the visualizer\n",
    "visualizer = ClassificationReport(logreg, classes=class_names)\n",
    "#visualizer.fit(X_train, y_train)  # Fit the training data to the visualizer\n",
    "visualizer.fit(X_train1, y_train) # Fit the training data to the visualizer\n",
    "visualizer.score(X_test1,y_test)  # Evaluate the model on the test data\n",
    "g = visualizer.poof()\n",
    "\n",
    "# ROC and AUC\n",
    "#Instantiate the visualizer\n",
    "visualizer = ROCAUC(logreg)\n",
    "\n",
    "visualizer.fit(X_train1, y_train) # Fit the training data to the visualizer\n",
    "visualizer.score(X_test1,y_test)  # Evaluate the model on the test data\n",
    "plt.rcParams['font.size'] = 20\n",
    "g = visualizer.poof()"
   ]
  }
 ],
 "metadata": {
  "kernel_info": {
   "name": "python3-azureml"
  },
  "kernelspec": {
   "display_name": "Python 3",
   "language": "python",
   "name": "python3"
  },
  "language_info": {
   "codemirror_mode": {
    "name": "ipython",
    "version": 3
   },
   "file_extension": ".py",
   "mimetype": "text/x-python",
   "name": "python",
   "nbconvert_exporter": "python",
   "pygments_lexer": "ipython3",
   "version": "3.8.6"
  },
  "microsoft": {
   "host": {
    "AzureML": {
     "notebookHasBeenCompleted": true
    }
   }
  },
  "nteract": {
   "version": "nteract-front-end@1.0.0"
  }
 },
 "nbformat": 4,
 "nbformat_minor": 2
}
